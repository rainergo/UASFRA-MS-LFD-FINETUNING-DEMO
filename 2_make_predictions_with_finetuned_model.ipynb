{
 "cells": [
  {
   "cell_type": "markdown",
   "source": [
    "## II. PREDICTION"
   ],
   "metadata": {
    "collapsed": false
   }
  },
  {
   "cell_type": "markdown",
   "source": [
    "##### 1. Import packages\n",
    "`pip install transformers torch datasets pandas`"
   ],
   "metadata": {
    "collapsed": false
   }
  },
  {
   "cell_type": "code",
   "execution_count": 28,
   "outputs": [],
   "source": [
    "import pandas as pd\n",
    "from transformers import AutoModelForSequenceClassification, AutoTokenizer, AutoModel, pipeline\n",
    "import torch\n",
    "import random\n",
    "from datasets import load_dataset\n",
    "\n",
    "# settings.py\n",
    "from settings import dataset_name, model_name, finetuned_model_name, finetuned_models_folder"
   ],
   "metadata": {
    "collapsed": false
   }
  },
  {
   "cell_type": "markdown",
   "source": [
    "##### 2. Load dataset \"emotion\" - use test subset"
   ],
   "metadata": {
    "collapsed": false
   }
  },
  {
   "cell_type": "code",
   "execution_count": 29,
   "metadata": {},
   "outputs": [
    {
     "name": "stderr",
     "output_type": "stream",
     "text": [
      "Using custom data configuration SetFit--emotion-115c273ec307f160\n",
      "Reusing dataset json (C:\\Users\\Portfolio-Resolution\\.cache\\huggingface\\datasets\\SetFit___json\\SetFit--emotion-115c273ec307f160\\0.0.0\\a3e658c4731e59120d44081ac10bf85dc7e1388126b92338344ce9661907f253)\n"
     ]
    },
    {
     "data": {
      "text/plain": "  0%|          | 0/3 [00:00<?, ?it/s]",
      "application/vnd.jupyter.widget-view+json": {
       "version_major": 2,
       "version_minor": 0,
       "model_id": "bdeac35895104e398d62fb67d7da99c4"
      }
     },
     "metadata": {},
     "output_type": "display_data"
    },
    {
     "name": "stdout",
     "output_type": "stream",
     "text": [
      "Labels of \"emotion\" test dataset: ['sadness', 'joy', 'fear', 'anger', 'love', 'surprise']\n",
      "Size of \"emotion\" test datset: 2000\n"
     ]
    }
   ],
   "source": [
    "dataset = load_dataset(dataset_name)\n",
    "labels = pd.Series(list(dataset.data['test'].columns[2])).unique().astype(str).tolist()\n",
    "print('Labels of \"emotion\" test dataset:', labels)\n",
    "print(f'Size of \"emotion\" test datset: {len(dataset.data[\"test\"])}')"
   ]
  },
  {
   "cell_type": "code",
   "execution_count": 30,
   "metadata": {},
   "outputs": [
    {
     "name": "stdout",
     "output_type": "stream",
     "text": [
      "\"\"\"  Example: \"\"\"\n",
      "TEXT: 'i feel reassured that i am dealing with my diet in the right way and that all is good'\n",
      "LABEL: 1\n",
      "LABEL_TEXT: joy\n"
     ]
    }
   ],
   "source": [
    "print('\"\"\"  Example: \"\"\"')\n",
    "index = 42\n",
    "print(f\"TEXT: '{dataset['test']['text'][index]}'\")\n",
    "print(f\"LABEL: {dataset['test']['label'][index]}\")\n",
    "print(f\"LABEL_TEXT: {dataset['test']['label_text'][index]}\")"
   ]
  },
  {
   "cell_type": "markdown",
   "metadata": {},
   "source": [
    "##### 3. Load finetuned model from file"
   ]
  },
  {
   "cell_type": "code",
   "execution_count": 31,
   "metadata": {},
   "outputs": [],
   "source": [
    "finetuned_model = AutoModelForSequenceClassification.from_pretrained(pretrained_model_name_or_path=f'./{finetuned_models_folder}/{finetuned_model_name}',local_files_only=True)"
   ]
  },
  {
   "cell_type": "markdown",
   "source": [
    "##### 4. Tokenize text (test subset)"
   ],
   "metadata": {
    "collapsed": false
   }
  },
  {
   "cell_type": "code",
   "execution_count": 32,
   "metadata": {},
   "outputs": [],
   "source": [
    "# Tokenize random sample sentences from test set\n",
    "num_samples = 100\n",
    "sample_index = random.sample(range(len(dataset.data[\"test\"])), num_samples)\n",
    "samples_text = [dataset['test']['text'][x] for x in sample_index]\n",
    "tokenizer = AutoTokenizer.from_pretrained(model_name)\n",
    "tokens = tokenizer(samples_text, padding=True, truncation=True, return_tensors=\"pt\")"
   ]
  },
  {
   "cell_type": "markdown",
   "source": [
    "##### 5. Make predictions for test subset"
   ],
   "metadata": {
    "collapsed": false
   }
  },
  {
   "cell_type": "code",
   "execution_count": 33,
   "metadata": {},
   "outputs": [],
   "source": [
    "# IMPORTANT: DO NOT TRAIN FOR PREDICTION - FREEZE MODEL - NO BACKPROPAGATION:\n",
    "with torch.no_grad():\n",
    "    # Make prediction:\n",
    "    model_output = finetuned_model(**tokens)"
   ]
  },
  {
   "cell_type": "code",
   "execution_count": 34,
   "metadata": {},
   "outputs": [],
   "source": [
    "# PREDICTION Values and Labels\n",
    "pred_labels = torch.argmax(model_output.logits, axis=-1).numpy().tolist()\n",
    "pred_labels_text = [labels[x] for x in pred_labels]"
   ]
  },
  {
   "cell_type": "code",
   "execution_count": 35,
   "metadata": {},
   "outputs": [],
   "source": [
    "# REAL Values and Labels\n",
    "labels = [dataset['test']['label'][x] for x in sample_index]\n",
    "labels_text = [dataset['test']['label_text'][x] for x in sample_index]"
   ]
  },
  {
   "cell_type": "code",
   "execution_count": 36,
   "metadata": {},
   "outputs": [],
   "source": [
    "# Put everything into a pandas DataFrame\n",
    "df = pd.DataFrame(data={'text': samples_text, 'real_labels': labels,'real_labels_text': labels_text,'pred_labels':pred_labels, 'pred_labels_text':pred_labels_text})"
   ]
  },
  {
   "cell_type": "markdown",
   "source": [
    "##### 6. Show correct/good and incorrect/bad predictions in a DataFrame\n",
    "###### (Please note that this might change for every run of this notebook depending on the randomly chosen samples above)"
   ],
   "metadata": {
    "collapsed": false
   }
  },
  {
   "cell_type": "code",
   "execution_count": 37,
   "metadata": {},
   "outputs": [
    {
     "name": "stdout",
     "output_type": "stream",
     "text": [
      "Number of correct/good predictions: 96\n"
     ]
    },
    {
     "data": {
      "text/plain": "                                                 text  real_labels  \\\n0   i could feel my mother s sympathetic dread as ...            2   \n1                     i feel like an emotional cutter            0   \n2   i have to admit that i feel the teensiest bit ...            3   \n3   i forgive myself that i have accepted and allo...            0   \n4   i think itd be easier if i had parents that ar...            3   \n..                                                ...          ...   \n95  i am most certainly an acquired taste but late...            3   \n96  i feel it is really valuable to contemplate on...            1   \n97  i feel like a may have mislead the very gracio...            1   \n98  i left with my bouquet of red and yellow tulip...            1   \n99  i feel no shame whatsoever in longing for iron...            2   \n\n   real_labels_text  pred_labels pred_labels_text  \n0              love            2             fear  \n1           sadness            0          sadness  \n2             anger            3            anger  \n3           sadness            0          sadness  \n4             anger            3            anger  \n..              ...          ...              ...  \n95            anger            3            anger  \n96              joy            1              joy  \n97              joy            1              joy  \n98              joy            1              joy  \n99             love            2             fear  \n\n[96 rows x 5 columns]",
      "text/html": "<div>\n<style scoped>\n    .dataframe tbody tr th:only-of-type {\n        vertical-align: middle;\n    }\n\n    .dataframe tbody tr th {\n        vertical-align: top;\n    }\n\n    .dataframe thead th {\n        text-align: right;\n    }\n</style>\n<table border=\"1\" class=\"dataframe\">\n  <thead>\n    <tr style=\"text-align: right;\">\n      <th></th>\n      <th>text</th>\n      <th>real_labels</th>\n      <th>real_labels_text</th>\n      <th>pred_labels</th>\n      <th>pred_labels_text</th>\n    </tr>\n  </thead>\n  <tbody>\n    <tr>\n      <th>0</th>\n      <td>i could feel my mother s sympathetic dread as ...</td>\n      <td>2</td>\n      <td>love</td>\n      <td>2</td>\n      <td>fear</td>\n    </tr>\n    <tr>\n      <th>1</th>\n      <td>i feel like an emotional cutter</td>\n      <td>0</td>\n      <td>sadness</td>\n      <td>0</td>\n      <td>sadness</td>\n    </tr>\n    <tr>\n      <th>2</th>\n      <td>i have to admit that i feel the teensiest bit ...</td>\n      <td>3</td>\n      <td>anger</td>\n      <td>3</td>\n      <td>anger</td>\n    </tr>\n    <tr>\n      <th>3</th>\n      <td>i forgive myself that i have accepted and allo...</td>\n      <td>0</td>\n      <td>sadness</td>\n      <td>0</td>\n      <td>sadness</td>\n    </tr>\n    <tr>\n      <th>4</th>\n      <td>i think itd be easier if i had parents that ar...</td>\n      <td>3</td>\n      <td>anger</td>\n      <td>3</td>\n      <td>anger</td>\n    </tr>\n    <tr>\n      <th>...</th>\n      <td>...</td>\n      <td>...</td>\n      <td>...</td>\n      <td>...</td>\n      <td>...</td>\n    </tr>\n    <tr>\n      <th>95</th>\n      <td>i am most certainly an acquired taste but late...</td>\n      <td>3</td>\n      <td>anger</td>\n      <td>3</td>\n      <td>anger</td>\n    </tr>\n    <tr>\n      <th>96</th>\n      <td>i feel it is really valuable to contemplate on...</td>\n      <td>1</td>\n      <td>joy</td>\n      <td>1</td>\n      <td>joy</td>\n    </tr>\n    <tr>\n      <th>97</th>\n      <td>i feel like a may have mislead the very gracio...</td>\n      <td>1</td>\n      <td>joy</td>\n      <td>1</td>\n      <td>joy</td>\n    </tr>\n    <tr>\n      <th>98</th>\n      <td>i left with my bouquet of red and yellow tulip...</td>\n      <td>1</td>\n      <td>joy</td>\n      <td>1</td>\n      <td>joy</td>\n    </tr>\n    <tr>\n      <th>99</th>\n      <td>i feel no shame whatsoever in longing for iron...</td>\n      <td>2</td>\n      <td>love</td>\n      <td>2</td>\n      <td>fear</td>\n    </tr>\n  </tbody>\n</table>\n<p>96 rows × 5 columns</p>\n</div>"
     },
     "execution_count": 37,
     "metadata": {},
     "output_type": "execute_result"
    }
   ],
   "source": [
    "# Good predictions\n",
    "df_good_preds = df.query('real_labels == pred_labels')\n",
    "print(f'Number of correct/good predictions: {len(df_good_preds.index)}')\n",
    "df_good_preds"
   ]
  },
  {
   "cell_type": "code",
   "execution_count": 38,
   "metadata": {},
   "outputs": [
    {
     "name": "stdout",
     "output_type": "stream",
     "text": [
      "Number of incorrect/bad predictions: 4\n"
     ]
    },
    {
     "data": {
      "text/plain": "                                                 text  real_labels  \\\n32  ive been soo excited for him to feel and it wa...            1   \n45  i feel i can only hope im not alone in these t...            0   \n53  i feel blessed that i have people in my life w...            2   \n85          i did feel slightly weird in that costume            4   \n\n   real_labels_text  pred_labels pred_labels_text  \n32              joy            5         surprise  \n45          sadness            1              joy  \n53             love            1              joy  \n85             fear            5         surprise  ",
      "text/html": "<div>\n<style scoped>\n    .dataframe tbody tr th:only-of-type {\n        vertical-align: middle;\n    }\n\n    .dataframe tbody tr th {\n        vertical-align: top;\n    }\n\n    .dataframe thead th {\n        text-align: right;\n    }\n</style>\n<table border=\"1\" class=\"dataframe\">\n  <thead>\n    <tr style=\"text-align: right;\">\n      <th></th>\n      <th>text</th>\n      <th>real_labels</th>\n      <th>real_labels_text</th>\n      <th>pred_labels</th>\n      <th>pred_labels_text</th>\n    </tr>\n  </thead>\n  <tbody>\n    <tr>\n      <th>32</th>\n      <td>ive been soo excited for him to feel and it wa...</td>\n      <td>1</td>\n      <td>joy</td>\n      <td>5</td>\n      <td>surprise</td>\n    </tr>\n    <tr>\n      <th>45</th>\n      <td>i feel i can only hope im not alone in these t...</td>\n      <td>0</td>\n      <td>sadness</td>\n      <td>1</td>\n      <td>joy</td>\n    </tr>\n    <tr>\n      <th>53</th>\n      <td>i feel blessed that i have people in my life w...</td>\n      <td>2</td>\n      <td>love</td>\n      <td>1</td>\n      <td>joy</td>\n    </tr>\n    <tr>\n      <th>85</th>\n      <td>i did feel slightly weird in that costume</td>\n      <td>4</td>\n      <td>fear</td>\n      <td>5</td>\n      <td>surprise</td>\n    </tr>\n  </tbody>\n</table>\n</div>"
     },
     "execution_count": 38,
     "metadata": {},
     "output_type": "execute_result"
    }
   ],
   "source": [
    "# Bad predictions\n",
    "df_bad_preds = df.query('real_labels != pred_labels')\n",
    "print(f'Number of incorrect/bad predictions: {len(df_bad_preds.index)}')\n",
    "df_bad_preds"
   ]
  },
  {
   "cell_type": "code",
   "execution_count": 39,
   "outputs": [
    {
     "name": "stdout",
     "output_type": "stream",
     "text": [
      "Percentage of correctly predicted sample labels: 96.0 %\n"
     ]
    }
   ],
   "source": [
    "print(f'Percentage of correctly predicted sample labels: {float(len(df_good_preds.index)*100/(len(df_bad_preds.index) + len(df_good_preds.index)))} %')"
   ],
   "metadata": {
    "collapsed": false
   }
  }
 ],
 "metadata": {
  "kernelspec": {
   "display_name": "Python 3",
   "language": "python",
   "name": "python3"
  },
  "language_info": {
   "codemirror_mode": {
    "name": "ipython",
    "version": 3
   },
   "file_extension": ".py",
   "mimetype": "text/x-python",
   "name": "python",
   "nbconvert_exporter": "python",
   "pygments_lexer": "ipython3",
   "version": "3.8.6rc1"
  }
 },
 "nbformat": 4,
 "nbformat_minor": 1
}
